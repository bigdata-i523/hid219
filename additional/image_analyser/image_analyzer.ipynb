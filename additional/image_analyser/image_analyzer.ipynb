{
 "cells": [
  {
   "cell_type": "code",
   "execution_count": 96,
   "metadata": {
    "collapsed": true
   },
   "outputs": [],
   "source": [
    "import time\n",
    "import numpy as np\n",
    "import scipy.misc\n",
    "import scipy.stats\n",
    "import matplotlib.pyplot as plt\n",
    "import matplotlib.image as mpimg"
   ]
  },
  {
   "cell_type": "code",
   "execution_count": 110,
   "metadata": {
    "collapsed": false
   },
   "outputs": [],
   "source": [
    "def imageAnalyzer(fileName):\n",
    "    img=scipy.misc.imread(\"image.png\",flatten=True)\n",
    "    print 'The histogram of pixel is, '\n",
    "    plt.hist(img.ravel(),256,[0,256])\n",
    "    plt.show()\n",
    "    return scipy.stats.itemfreq(img),np.average(np.subtract(np.amin(img)*np.ones((img.shape[0],img.shape[1])),img))"
   ]
  },
  {
   "cell_type": "code",
   "execution_count": 111,
   "metadata": {
    "collapsed": false
   },
   "outputs": [
    {
     "name": "stdout",
     "output_type": "stream",
     "text": [
      "The histogram of pixel is, \n"
     ]
    },
    {
     "data": {
      "image/png": "[encoded data removed]",
      "text/plain": [
       "<matplotlib.figure.Figure at 0xc788828>"
      ]
     },
     "metadata": {},
     "output_type": "display_data"
    },
    {
     "name": "stdout",
     "output_type": "stream",
     "text": [
      "The frequency of pixel is \n",
      "[[   9.2489996     1.        ]\n",
      " [  10.4659996     1.        ]\n",
      " [  10.54800034    1.        ]\n",
      " ..., \n",
      " [ 215.81500244    1.        ]\n",
      " [ 216.81500244    1.        ]\n",
      " [ 217.21699524    1.        ]]\n",
      "The average distance of all pixel from darkest place is \n",
      "-111.433954777\n",
      "The total time taken is  0.768756349325\n"
     ]
    }
   ],
   "source": [
    "start_time =time.clock() \n",
    "output = imageAnalyzer(\"image.png\")\n",
    "print 'The frequency of pixel is \\n',output[0]\n",
    "print 'The average distance of all pixel from darkest place is \\n',output[1]\n",
    "print 'The total time taken is ',time.clock()-start_time"
   ]
  }
 ],
 "metadata": {
  "anaconda-cloud": {},
  "kernelspec": {
   "display_name": "Python [default]",
   "language": "python",
   "name": "python2"
  },
  "language_info": {
   "codemirror_mode": {
    "name": "ipython",
    "version": 2
   },
   "file_extension": ".py",
   "mimetype": "text/x-python",
   "name": "python",
   "nbconvert_exporter": "python",
   "pygments_lexer": "ipython2",
   "version": "2.7.12"
  }
 },
 "nbformat": 4,
 "nbformat_minor": 1
}
